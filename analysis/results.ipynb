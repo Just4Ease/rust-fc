{
 "cells": [
  {
   "cell_type": "markdown",
   "metadata": {},
   "source": [
    "# Comparing `rust-fc` To Simulation Output\n",
    "\n",
    "The simulator proccessing code adds realisic noise to the IMU input before sending it to `rust-fc`.\n",
    "\n",
    "We'll compare the clean \"ideal\" simulator numbers to what was actually received by `rust-fc`"
   ]
  },
  {
   "cell_type": "code",
   "execution_count": null,
   "metadata": {
    "collapsed": false
   },
   "outputs": [],
   "source": [
    "from psas_packet.io import BinFile\n",
    "import csv\n",
    "\n",
    "FPS2M = 0.3048\n",
    "LBF2N = 4.44822\n",
    "LBS2KG = 0.453592\n",
    "\n",
    "# Read data from rust-fc\n",
    "logfile = BinFile('../logfile-000')\n",
    "max_acc = 0\n",
    "rust_time = []\n",
    "rust_accel_x = []\n",
    "rust_accel_y = []\n",
    "rust_accel_z = []\n",
    "for fourcc, data in logfile.read():\n",
    "    if fourcc == 'ADIS':\n",
    "        if data['Acc_X'] > max_acc:\n",
    "            max_acc = data['Acc_X']\n",
    "            rust_t = data['timestamp']/1.0e9\n",
    "        rust_time.append(data['timestamp']/1.0e9)\n",
    "        rust_accel_x.append(data['Acc_X'])\n",
    "        rust_accel_y.append(data['Acc_Y'])\n",
    "        rust_accel_z.append(data['Acc_Z'])\n",
    "\n",
    "# Read data from JSBSim\n",
    "max_accel = 0\n",
    "sim_time = []\n",
    "sim_accel_x = []\n",
    "measured_accel_x = []\n",
    "with open('../simulation/data.csv') as datafile:\n",
    "    reader = csv.reader(datafile, delimiter=',')\n",
    "    for row in reader:\n",
    "        # ignore first line\n",
    "        if row[0][0] == 'T':\n",
    "            continue\n",
    "        sim_time.append(float(row[0]))\n",
    "        acc = float(row[12])*FPS2M\n",
    "        if acc > max_accel:\n",
    "            max_accel = acc\n",
    "            sim_t = sim_time[-1]\n",
    "        sim_accel_x.append(acc)\n",
    "        force_x = float(row[18]) * LBF2N\n",
    "        weight = float(row[6]) * LBS2KG\n",
    "        measured_accel_x.append(force_x/weight)\n",
    "\n",
    "# line up time\n",
    "sim_offset = rust_t - sim_t\n",
    "sim_time = [t + sim_offset for t in sim_time]"
   ]
  },
  {
   "cell_type": "code",
   "execution_count": null,
   "metadata": {
    "collapsed": false
   },
   "outputs": [],
   "source": [
    "import matplotlib.pyplot as plt\n",
    "%matplotlib inline\n",
    "\n",
    "fig, ax1 = plt.subplots(figsize=(18,7))\n",
    "plt.title(r\"rust-fc Recorded IMU Acceleration\")\n",
    "plt.ylabel(r\"Acceleration [m/s${}^2$]\")\n",
    "plt.xlabel(r\"Run Time [s]\")\n",
    "\n",
    "plt.plot(rust_time, rust_accel_x, alpha=0.8, lw=0.5, label=\"rust-fc IMU 'Up'\")\n",
    "plt.plot(rust_time, rust_accel_y, alpha=0.8, lw=0.5, label=\"rust-fc IMU 'Y'\")\n",
    "plt.plot(rust_time, rust_accel_z, alpha=0.6, lw=0.5, label=\"rust-fc IMU 'Z'\")\n",
    "\n",
    "plt.plot(sim_time, measured_accel_x, 'k-', lw=1.3, alpha=0.6, label=\"JSBSim True Acceleration\")\n",
    "\n",
    "#plt.ylim()\n",
    "#plt.xlim()\n",
    "ax1.legend(loc=1)\n",
    "plt.show()"
   ]
  },
  {
   "cell_type": "markdown",
   "metadata": {},
   "source": []
  }
 ],
 "metadata": {
  "kernelspec": {
   "display_name": "Python 3",
   "language": "python",
   "name": "python3"
  },
  "language_info": {
   "codemirror_mode": {
    "name": "ipython",
    "version": 3
   },
   "file_extension": ".py",
   "mimetype": "text/x-python",
   "name": "python",
   "nbconvert_exporter": "python",
   "pygments_lexer": "ipython3",
   "version": "3.5.1+"
  }
 },
 "nbformat": 4,
 "nbformat_minor": 0
}
